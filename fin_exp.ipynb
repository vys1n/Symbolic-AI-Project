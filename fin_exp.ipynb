{
 "cells": [
  {
   "cell_type": "code",
   "execution_count": 1,
   "id": "8f723a18-a6c8-47c6-a5da-a226325c227d",
   "metadata": {},
   "outputs": [
    {
     "name": "stdin",
     "output_type": "stream",
     "text": [
      "What is your monthly income (in $)?  10000\n",
      "What are your monthly expenses (in $)?  3500\n",
      "What is your age?  23\n",
      "What is your risk appetite? (low/medium/high):  high\n",
      "How much do you have in savings (in $)?  49000\n",
      "What is your total debt (in $)?  0\n",
      "How much have you saved for emergency fund (in $)?  30000\n"
     ]
    }
   ],
   "source": [
    "income = float(input(\"What is your monthly income (in $)? \"))\n",
    "expenses = float(input(\"What are your monthly expenses (in $)? \"))\n",
    "age = int(input(\"What is your age? \"))\n",
    "risk_appetite = input(\"What is your risk appetite? (low/medium/high): \").lower()\n",
    "savings = float(input(\"How much do you have in savings (in $)? \"))\n",
    "debt = float(input(\"What is your total debt (in $)? \"))\n",
    "emergency_fund = float(input(\"How much have you saved for emergency fund (in $)? \"))"
   ]
  },
  {
   "cell_type": "code",
   "execution_count": null,
   "id": "9b5cf4c6-b009-4b51-a5e9-d5648e34a604",
   "metadata": {},
   "outputs": [],
   "source": []
  }
 ],
 "metadata": {
  "kernelspec": {
   "display_name": "Python 3 (ipykernel)",
   "language": "python",
   "name": "python3"
  },
  "language_info": {
   "codemirror_mode": {
    "name": "ipython",
    "version": 3
   },
   "file_extension": ".py",
   "mimetype": "text/x-python",
   "name": "python",
   "nbconvert_exporter": "python",
   "pygments_lexer": "ipython3",
   "version": "3.13.7"
  }
 },
 "nbformat": 4,
 "nbformat_minor": 5
}
