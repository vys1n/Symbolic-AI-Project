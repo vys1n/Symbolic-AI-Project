{
 "cells": [
  {
   "cell_type": "code",
   "execution_count": 1,
   "id": "8f723a18-a6c8-47c6-a5da-a226325c227d",
   "metadata": {},
   "outputs": [
    {
     "name": "stdin",
     "output_type": "stream",
     "text": [
      "What is your monthly income (in $)?  10000\n",
      "What are your monthly expenses (in $)?  3500\n",
      "What is your age?  23\n",
      "What is your risk appetite? (low/medium/high):  high\n",
      "How much do you have in savings (in $)?  49000\n",
      "What is your total debt (in $)?  0\n",
      "How much have you saved for emergency fund (in $)?  30000\n"
     ]
    }
   ],
   "source": [
    "income = float(input(\"What is your monthly income (in $)? \"))\n",
    "expenses = float(input(\"What are your monthly expenses (in $)? \"))\n",
    "age = int(input(\"What is your age? \"))\n",
    "risk_appetite = input(\"What is your risk appetite? (low/medium/high): \").lower()\n",
    "savings = float(input(\"How much do you have in savings (in $)? \"))\n",
    "debt = float(input(\"What is your total debt (in $)? \"))\n",
    "emergency_fund = float(input(\"How much have you saved for emergency fund (in $)? \"))"
   ]
  },
  {
   "cell_type": "code",
   "execution_count": 2,
   "id": "9b5cf4c6-b009-4b51-a5e9-d5648e34a604",
   "metadata": {},
   "outputs": [],
   "source": [
    "savings_ratio = (savings / (income * 12)) * 100\n",
    "debt_ratio = (debt / (income * 12)) * 100\n",
    "monthly_savings = income - expenses\n",
    "months_expenses_in_emergency_fund = emergency_fund / expenses if expenses > 0 else 0"
   ]
  },
  {
   "cell_type": "code",
   "execution_count": 8,
   "id": "8615b181-7581-4f86-b095-a839fe6e1f0d",
   "metadata": {},
   "outputs": [
    {
     "name": "stdout",
     "output_type": "stream",
     "text": [
      "\n",
      "Finance Recommendations\n",
      "\n"
     ]
    }
   ],
   "source": [
    "print(\"\\nFinance Recommendations\\n\")"
   ]
  },
  {
   "cell_type": "markdown",
   "id": "0ad1b3e8-a271-4075-9509-e5e2727270d5",
   "metadata": {},
   "source": [
    "# Savings Advice"
   ]
  },
  {
   "cell_type": "code",
   "execution_count": 6,
   "id": "4aabd91f-f69c-4530-961c-88f463d6eb5a",
   "metadata": {},
   "outputs": [
    {
     "name": "stdout",
     "output_type": "stream",
     "text": [
      "✅ You have a strong savings habit. Keep it up!\n"
     ]
    }
   ],
   "source": [
    "if monthly_savings <= 0:\n",
    "    print(\"You are spending more than you earn. Reduce expenses immediately.\")\n",
    "elif savings_ratio < 20:\n",
    "    print(\"Your savings ratio is low. Aim to save at least 20% of your income.\")\n",
    "elif savings_ratio >= 30:\n",
    "    print(\"You have a strong savings habit. Keep it up!\")"
   ]
  },
  {
   "cell_type": "markdown",
   "id": "c0d78d55-cef0-4a4e-8e0a-c5657fc25e70",
   "metadata": {},
   "source": [
    "# Investment Advice"
   ]
  },
  {
   "cell_type": "code",
   "execution_count": 9,
   "id": "18b35c5e-f0af-4393-b31c-e9ea7d6f74c4",
   "metadata": {},
   "outputs": [
    {
     "name": "stdout",
     "output_type": "stream",
     "text": [
      "Recommended Investments: Stocks, Mutual Funds, Index Funds\n"
     ]
    }
   ],
   "source": [
    "if risk_appetite == \"high\" and age < 40:\n",
    "    print(\"Recommended Investments: Stocks, Mutual Funds, Index Funds\")\n",
    "elif risk_appetite == \"medium\":\n",
    "    print(\"Recommended Investments: Balanced Mutual Funds, Bonds\")\n",
    "elif risk_appetite == \"low\" or age > 50:\n",
    "    print(\"Recommended Investments: Fixed Deposits, Gold, Government Bonds\")"
   ]
  },
  {
   "cell_type": "markdown",
   "id": "cf17ce34-f68e-4fde-a505-15b499a40e66",
   "metadata": {},
   "source": [
    "# Debt Advice"
   ]
  },
  {
   "cell_type": "code",
   "execution_count": 10,
   "id": "6df5b426-d95d-405d-9003-41942f61dbe1",
   "metadata": {},
   "outputs": [
    {
     "name": "stdout",
     "output_type": "stream",
     "text": [
      "Your debt is at a safe level. Maintain discipline.\n"
     ]
    }
   ],
   "source": [
    "if debt_ratio > 40:\n",
    "    print(\"Your debt ratio is too high. Consider debt consolidation or reducing loans.\")\n",
    "elif debt_ratio < 20:\n",
    "    print(\"Your debt is at a safe level. Maintain discipline.\")"
   ]
  },
  {
   "cell_type": "markdown",
   "id": "3ad2e910-d608-447a-be34-fd963dfb6f15",
   "metadata": {},
   "source": [
    "# Emergency Fund Advice"
   ]
  },
  {
   "cell_type": "code",
   "execution_count": 12,
   "id": "b3b65680-af2d-4f2a-8fd0-70d1e23c9c9a",
   "metadata": {},
   "outputs": [
    {
     "name": "stdout",
     "output_type": "stream",
     "text": [
      "Your emergency fund is adequate.\n"
     ]
    }
   ],
   "source": [
    "if months_expenses_in_emergency_fund < 6:\n",
    "    print(\"Build your emergency fund to cover at least 6 months of expenses.\")\n",
    "else:\n",
    "    print(\"Your emergency fund is adequate.\")"
   ]
  },
  {
   "cell_type": "markdown",
   "id": "0c750758-95c3-4eb3-8c33-5c3ebc99a5f9",
   "metadata": {},
   "source": [
    "# Final Recommendation"
   ]
  },
  {
   "cell_type": "code",
   "execution_count": 13,
   "id": "cd00c5e5-f6dd-44d5-881a-0e80e7f0b561",
   "metadata": {},
   "outputs": [
    {
     "name": "stdout",
     "output_type": "stream",
     "text": [
      "\n",
      "Overall: You are on the right financial track! Keep investing and diversifying.\n",
      "\n"
     ]
    }
   ],
   "source": [
    "if monthly_savings > 0 and savings_ratio > 20 and months_expenses_in_emergency_fund >= 6:\n",
    "    print(\"\\nOverall: You are on the right financial track! Keep investing and diversifying.\\n\")\n",
    "else:\n",
    "    print(\"\\nOverall: Focus on improving savings, reducing debt, and building emergency funds.\\n\")"
   ]
  },
  {
   "cell_type": "code",
   "execution_count": null,
   "id": "77e5bca6-d27a-44b6-826a-1c7a4b81dae0",
   "metadata": {},
   "outputs": [],
   "source": []
  }
 ],
 "metadata": {
  "kernelspec": {
   "display_name": "Python 3 (ipykernel)",
   "language": "python",
   "name": "python3"
  },
  "language_info": {
   "codemirror_mode": {
    "name": "ipython",
    "version": 3
   },
   "file_extension": ".py",
   "mimetype": "text/x-python",
   "name": "python",
   "nbconvert_exporter": "python",
   "pygments_lexer": "ipython3",
   "version": "3.13.7"
  }
 },
 "nbformat": 4,
 "nbformat_minor": 5
}
